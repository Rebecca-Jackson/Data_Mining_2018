{
 "cells": [
  {
   "cell_type": "code",
   "execution_count": 43,
   "metadata": {},
   "outputs": [
    {
     "name": "stdout",
     "output_type": "stream",
     "text": [
      "[[37  0  0  0  0  0  0  0  0  0]\n",
      " [ 0 39  0  0  0  0  0  0  4  0]\n",
      " [ 0  7 20  2  0  0  0  0 15  0]\n",
      " [ 0  0  0 39  0  0  0  1  5  0]\n",
      " [ 0  1  0  0 31  0  0  6  0  0]\n",
      " [ 0  1  0  1  0 43  0  3  0  0]\n",
      " [ 0  0  1  0  0  0 51  0  0  0]\n",
      " [ 0  0  0  0  1  0  0 47  0  0]\n",
      " [ 0  6  0  1  0  1  0  2 38  0]\n",
      " [ 0  2  0  4  1  0  0  3  7 30]]\n"
     ]
    }
   ],
   "source": [
    "#allows us to use to load_digits dataset\n",
    "from sklearn.datasets import load_digits\n",
    "#allows us to split data int different sets\n",
    "from sklearn.cross_validation import train_test_split\n",
    "#classifier for data\n",
    "from sklearn.naive_bayes import GaussianNB\n",
    "#allows us to generate the confusion matrix\n",
    "from sklearn.metrics import confusion_matrix\n",
    "\n",
    "#loads the dataset\n",
    "digits = load_digits()\n",
    "#sets the target for the data\n",
    "CInfo = digits.target\n",
    "no_observation = len(digits.images)\n",
    "#defines and shapes the data so that it can be split\n",
    "Features = digits.images.reshape(no_observation,-1)\n",
    "\n",
    "#splits up data so that we may find and test a pattern\n",
    "FTrain, FTest, CTrain, CTest = train_test_split(Features, CInfo, random_state = 0)\n",
    "#defines the classifer used\n",
    "GNB_VARIABLE = GaussianNB()\n",
    "#finds the pattern\n",
    "fit = GNB_VARIABLE.fit(FTrain,CTrain)\n",
    "#uses the pattern found above to make a prediction\n",
    "predict= fit.predict(FTest)\n",
    "#prints the confusion matrix for the prediction based on the test data\n",
    "print (confusion_matrix(CTest, predict))"
   ]
  },
  {
   "cell_type": "code",
   "execution_count": 44,
   "metadata": {},
   "outputs": [
    {
     "name": "stdout",
     "output_type": "stream",
     "text": [
      "[[ 83   0]\n",
      " [  0 167]]\n"
     ]
    }
   ],
   "source": [
    "#imports necessary methods to create confusion matrix\n",
    "from sklearn.cross_validation import train_test_split\n",
    "from sklearn.naive_bayes import GaussianNB\n",
    "from sklearn.metrics import confusion_matrix\n",
    "import numpy as np\n",
    "\n",
    "#loads the data\n",
    "matrix = np.loadtxt('german_credit.csv', skiprows=1, delimiter=',')\n",
    "#first column has the target for the model\n",
    "CInfo=matrix[:,0]\n",
    "no_obsv = len(matrix-1)\n",
    "#the data to be examined\n",
    "Feat= matrix.reshape(no_obsv,-1)\n",
    "\n",
    "#splits up data to a 30%/70% split\n",
    "FTrain, FTest, CTrain, CTest = train_test_split(Feat, CInfo, random_state = 0)\n",
    "#defines the classifer used\n",
    "GNB_VARIABLE = GaussianNB()\n",
    "#finds the pattern\n",
    "fit = GNB_VARIABLE.fit(FTrain, CTrain)\n",
    "#uses the pattern found above to make a prediction\n",
    "predict= fit.predict(FTest)\n",
    "#prints the confusion matrix for the prediction based on the test data\n",
    "print (confusion_matrix(CTest, predict))"
   ]
  },
  {
   "cell_type": "code",
   "execution_count": null,
   "metadata": {},
   "outputs": [],
   "source": []
  },
  {
   "cell_type": "code",
   "execution_count": null,
   "metadata": {},
   "outputs": [],
   "source": []
  },
  {
   "cell_type": "code",
   "execution_count": null,
   "metadata": {},
   "outputs": [],
   "source": []
  }
 ],
 "metadata": {
  "kernelspec": {
   "display_name": "Python 3",
   "language": "python",
   "name": "python3"
  },
  "language_info": {
   "codemirror_mode": {
    "name": "ipython",
    "version": 3
   },
   "file_extension": ".py",
   "mimetype": "text/x-python",
   "name": "python",
   "nbconvert_exporter": "python",
   "pygments_lexer": "ipython3",
   "version": "3.6.5"
  }
 },
 "nbformat": 4,
 "nbformat_minor": 2
}
