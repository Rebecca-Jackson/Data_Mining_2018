{
 "cells": [
  {
   "cell_type": "code",
   "execution_count": 71,
   "metadata": {},
   "outputs": [
    {
     "name": "stdout",
     "output_type": "stream",
     "text": [
      "['Creditability', 'Account Balance', 'Duration of Credit (month)', 'Payment Status of Previous Credit', 'Purpose', 'Credit Amount', 'Value Savings/Stocks', 'Length of current employment', 'Instalment per cent', 'Sex & Marital Status', 'Guarantors', 'Duration in Current address', 'Most valuable available asset', 'Age (years)', 'Concurrent Credits', 'Type of apartment', 'No of Credits at this Bank', 'Occupation', 'No of dependents', 'Telephone', 'Foreign Worker']\n",
      "[[ 1  1  1 ...  0  0  0]\n",
      " [ 1  1  2 ...  4  2  1]\n",
      " [18  9 12 ... 21 12 30]\n",
      " ...\n",
      " [ 1  2  1 ...  1  1  1]\n",
      " [ 1  1  1 ...  2  2  1]\n",
      " [ 1  1  1 ...  1  1  1]]\n",
      "[[0 1 0 0 0 0 0 0 0 0]\n",
      " [0 0 0 0 0 0 0 0 0 0]\n",
      " [0 0 0 0 1 0 0 0 0 0]\n",
      " [0 0 0 0 0 0 0 0 1 0]\n",
      " [0 0 0 0 0 0 0 0 0 0]\n",
      " [0 0 0 0 1 0 0 0 0 0]\n",
      " [0 0 0 0 0 0 0 1 0 0]\n",
      " [0 0 0 0 0 0 0 0 0 0]\n",
      " [0 0 0 0 0 0 0 0 0 0]\n",
      " [0 1 0 0 0 0 0 0 0 0]]\n"
     ]
    }
   ],
   "source": [
    "from sklearn.cross_validation import train_test_split #allows spliting of data\n",
    "from sklearn.naive_bayes import GaussianNB #to find a model\n",
    "from sklearn.metrics import confusion_matrix #to generate confusion matrix\n",
    "\n",
    "import pandas as pd\n",
    "import numpy as np\n",
    "#imports the file as a dataframe and uses the first row as the header\n",
    "dataset= pd.read_csv('german_credit.csv',header=0) \n",
    "#gives the class info as the names of each column\n",
    "CInfo = list(dataset)\n",
    "print(CInfo)\n",
    "no_obsv=len(dataset)\n",
    "Features = dataset.values\n",
    "Features = Features.transpose()\n",
    "print(Features)\n",
    "#split your data into training and test sets\n",
    "FTrain, FTest, ClassTrain, ClassTest = train_test_split(Features, CInfo)\n",
    "GNB_VARIABLE = GaussianNB()\n",
    "#uses the training sets to generate a model\n",
    "fit =GNB_VARIABLE.fit(FTrain, ClassTrain)\n",
    "#creates a prediction based on the fit generated above\n",
    "predicted = fit.predict(FTest)\n",
    "#generates a confusion matrix based on the actual data versus the predicted data\n",
    "result = confusion_matrix(ClassTest, predicted)\n",
    "#prints the final confusion matrix\n",
    "print(result)\n"
   ]
  },
  {
   "cell_type": "code",
   "execution_count": 1,
   "metadata": {},
   "outputs": [
    {
     "ename": "SyntaxError",
     "evalue": "unexpected EOF while parsing (<ipython-input-1-f88395446a43>, line 2)",
     "output_type": "error",
     "traceback": [
      "\u001b[0;36m  File \u001b[0;32m\"<ipython-input-1-f88395446a43>\"\u001b[0;36m, line \u001b[0;32m2\u001b[0m\n\u001b[0;31m    print (dataset\u001b[0m\n\u001b[0m                  ^\u001b[0m\n\u001b[0;31mSyntaxError\u001b[0m\u001b[0;31m:\u001b[0m unexpected EOF while parsing\n"
     ]
    }
   ],
   "source": []
  },
  {
   "cell_type": "code",
   "execution_count": null,
   "metadata": {},
   "outputs": [],
   "source": []
  }
 ],
 "metadata": {
  "kernelspec": {
   "display_name": "Python 3",
   "language": "python",
   "name": "python3"
  },
  "language_info": {
   "codemirror_mode": {
    "name": "ipython",
    "version": 3
   },
   "file_extension": ".py",
   "mimetype": "text/x-python",
   "name": "python",
   "nbconvert_exporter": "python",
   "pygments_lexer": "ipython3",
   "version": "3.6.5"
  }
 },
 "nbformat": 4,
 "nbformat_minor": 2
}
