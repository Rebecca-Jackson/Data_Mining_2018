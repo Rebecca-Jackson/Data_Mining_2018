{
 "cells": [
  {
   "cell_type": "code",
   "execution_count": 1,
   "metadata": {},
   "outputs": [],
   "source": [
    "import pandas as pd\n",
    "import matplotlib.pyplot as plt\n",
    "\n",
    "#to import the german credit dataset\n",
    "data = pd.read_csv('german_credit.csv', sep=',')\n",
    "#to print the dataset\n",
    "#print(data)\n",
    "\n",
    "#generate a histogram for each column in the dataset\n",
    "#for column in data:\n",
    "    #plt.hist(data.loc[:,column].values)\n",
    "    #plt.title('Histogram for ' + column + ' column of the German Credit dataset')\n",
    "    #plt.xlabel('Value in ' + column + ' column')\n",
    "    #plt.ylabel('Number of Occurances')\n",
    "    #plt.show()\n",
    "    \n",
    "    #freq = data[column].value_counts()\n",
    "    #labels = data[column].unique()\n",
    "    #num_val = len(labels)\n",
    "#generate a bar chart based on the frequency each value in a column occurs\n",
    "    #plt.title('Bar Chart for ' + column + ' Column')\n",
    "    #plt.bar(labels, freq, align = 'center')\n",
    "    #plt.xticks(labels)\n",
    "    #plt.show()\n",
    "    \n",
    "#generate a pie chart based on the frequency each value in a column occurs\n",
    "    #plt.title('Pie Chart for ' + column + ' Column')\n",
    "    #plt.pie(freq, labels=labels)\n",
    "    #plt.show()\n",
    "    \n",
    "#generate a box plot for each column\n",
    "    #plt.title('Box Plot for ' + column + ' Column')\n",
    "    #plt.boxplot(data.loc[:,column].values)\n",
    "    #plt.ylabel(column)\n",
    "    #plt.show()\n",
    "    \n",
    "#generate a scatter plot based on the frequency each value in a column occurs\n",
    "    #plt.title('Scatter Plot for ' + column + ' Column')\n",
    "    #plt.scatter(labels, freq)\n",
    "    #plt.xticks(labels)\n",
    "    #plt.show()\n",
    "    "
   ]
  },
  {
   "cell_type": "code",
   "execution_count": 28,
   "metadata": {},
   "outputs": [
    {
     "name": "stdout",
     "output_type": "stream",
     "text": [
      "[[ 28  72]\n",
      " [ 13 187]]\n",
      "[[ 46  54]\n",
      " [ 25 175]]\n"
     ]
    },
    {
     "name": "stderr",
     "output_type": "stream",
     "text": [
      "/anaconda3/lib/python3.6/site-packages/sklearn/neural_network/multilayer_perceptron.py:564: ConvergenceWarning: Stochastic Optimizer: Maximum iterations (200) reached and the optimization hasn't converged yet.\n",
      "  % self.max_iter, ConvergenceWarning)\n"
     ]
    }
   ],
   "source": [
    "import numpy as np\n",
    "#allows us to create a confusion matrix\n",
    "from sklearn.metrics import confusion_matrix\n",
    "#allows the data to be split into testing and training sets\n",
    "from sklearn.cross_validation import train_test_split\n",
    "\n",
    "#import the dataset\n",
    "matrix = np.loadtxt('german_credit.csv', skiprows=1,delimiter=',')\n",
    "#print(matrix)\n",
    "#target for the model is in the first column\n",
    "target = matrix[:,0]\n",
    "#print(target)\n",
    "#data which is not the target\n",
    "data = matrix[:,1:]\n",
    "#print(data)\n",
    "\n",
    "#splits the data into a 70% training set and a 30% testing set\n",
    "Ftrain, Ftest, Ctrain, Ctest = train_test_split(data, target, test_size=0.30, random_state=0)\n",
    "\n",
    "#for the kNN Classifier\n",
    "from sklearn.neighbors import KNeighborsClassifier\n",
    "from sklearn.preprocessing import StandardScaler\n",
    "\n",
    "#scale the data \n",
    "scaler = StandardScaler()\n",
    "scaler.fit(Ftrain)\n",
    "Ftrain = scaler.transform(Ftrain)\n",
    "Ftest = scaler.transform(Ftest)\n",
    "\n",
    "#instantiate the model with the number of neighbors set to 5\n",
    "kNN = KNeighborsClassifier(n_neighbors=5)\n",
    "#fit the model\n",
    "kNN.fit(Ftrain, Ctrain)\n",
    "#use the model to make a prediction\n",
    "pred = kNN.predict(Ftest)\n",
    "\n",
    "#generate the confusion matrix for the kNN model's prediction\n",
    "print(confusion_matrix(Ctest, pred))\n",
    "\n",
    "#for the Support Vector Machine\n",
    "from sklearn import svm\n",
    "#instantiate the Support Vector Machine classifier\n",
    "SVM = svm.SVC(kernel='linear')\n",
    "#fit the model\n",
    "SVM.fit(Ftrain, Ctrain)\n",
    "#use the model to make a prediction\n",
    "pred = fit.predict(Ftest)\n",
    "\n",
    "#generate the confusion matrix for the SVM model's prediction\n",
    "#print(confusion_matrix(Ctest, pred))\n",
    "\n",
    "#for the MLP \n",
    "from sklearn.neural_network import MLPClassifier\n",
    "#instantiate the MLP classifer\n",
    "MLP = MLPClassifier()\n",
    "#fit the model\n",
    "MLP.fit(Ftrain, Ctrain)\n",
    "#use the model to make a prediction\n",
    "pred = fit.predict(Ftest)\n",
    "\n",
    "#generate the confusion matrix for the model's prediction\n",
    "print(confusion_matrix(Ctest, pred))"
   ]
  },
  {
   "cell_type": "code",
   "execution_count": null,
   "metadata": {},
   "outputs": [],
   "source": []
  },
  {
   "cell_type": "code",
   "execution_count": null,
   "metadata": {},
   "outputs": [],
   "source": []
  },
  {
   "cell_type": "code",
   "execution_count": null,
   "metadata": {},
   "outputs": [],
   "source": []
  },
  {
   "cell_type": "code",
   "execution_count": null,
   "metadata": {},
   "outputs": [],
   "source": []
  }
 ],
 "metadata": {
  "kernelspec": {
   "display_name": "Python 3",
   "language": "python",
   "name": "python3"
  },
  "language_info": {
   "codemirror_mode": {
    "name": "ipython",
    "version": 3
   },
   "file_extension": ".py",
   "mimetype": "text/x-python",
   "name": "python",
   "nbconvert_exporter": "python",
   "pygments_lexer": "ipython3",
   "version": "3.6.5"
  }
 },
 "nbformat": 4,
 "nbformat_minor": 2
}
