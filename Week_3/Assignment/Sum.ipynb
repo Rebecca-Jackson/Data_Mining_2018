{
 "cells": [
  {
   "cell_type": "code",
   "execution_count": 60,
   "metadata": {},
   "outputs": [],
   "source": [
    "import numpy as np\n",
    "D=[[34,43,35,53,36,63,37],\n",
    "[38,83,39,93,40,4,41],\n",
    "[42,24,43,34,44,44,45],\n",
    "[45,54,46,64,47,74,48],\n",
    "[49,94,50,5,51,15,52],\n",
    "[53,35,54,45,55,55,56],\n",
    "[57,75,58,85,59,95,60]]\n",
    "\n",
    "def sum_row(M,n):\n",
    "    sum=0\n",
    "    for i in range(7):\n",
    "        sum+= M[n][i]\n",
    "    return sum\n",
    "\n",
    "def sum_column(M,n):\n",
    "    sum=0\n",
    "    for i in range(7):\n",
    "        sum+= M[i][n]\n",
    "    return sum\n",
    "\n",
    "def sum_matrix(M):\n",
    "    sum=0\n",
    "    for i in range(0,6):\n",
    "        sum+=sum_column(M,i-1)\n",
    "    return sum"
   ]
  },
  {
   "cell_type": "code",
   "execution_count": null,
   "metadata": {},
   "outputs": [],
   "source": []
  },
  {
   "cell_type": "code",
   "execution_count": null,
   "metadata": {},
   "outputs": [],
   "source": []
  }
 ],
 "metadata": {
  "kernelspec": {
   "display_name": "Python 3",
   "language": "python",
   "name": "python3"
  },
  "language_info": {
   "codemirror_mode": {
    "name": "ipython",
    "version": 3
   },
   "file_extension": ".py",
   "mimetype": "text/x-python",
   "name": "python",
   "nbconvert_exporter": "python",
   "pygments_lexer": "ipython3",
   "version": "3.6.5"
  }
 },
 "nbformat": 4,
 "nbformat_minor": 2
}
